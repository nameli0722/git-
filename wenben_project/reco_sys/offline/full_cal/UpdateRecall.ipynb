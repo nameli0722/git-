{
 "cells": [
  {
   "cell_type": "code",
   "execution_count": 1,
   "metadata": {},
   "outputs": [],
   "source": [
    "import os\n",
    "import sys\n",
    "# 如果当前代码文件运行测试需要加入修改路径，避免出现后导包问题\n",
    "BASE_DIR = os.path.dirname(os.path.dirname(os.getcwd()))\n",
    "sys.path.insert(0, os.path.join(BASE_DIR))\n",
    "\n",
    "PYSPARK_PYTHON = \"/miniconda2/envs/reco_sys/bin/python\"\n",
    "# 当存在多个版本时，不指定很可能会导致出错\n",
    "os.environ[\"PYSPARK_PYTHON\"] = PYSPARK_PYTHON\n",
    "os.environ[\"PYSPARK_DRIVER_PYTHON\"] = PYSPARK_PYTHON\n",
    "\n",
    "from offline import SparkSessionBase\n",
    "\n",
    "class UpdateRecall(SparkSessionBase):\n",
    "\n",
    "    SPARK_APP_NAME = \"updateRecall\"\n",
    "    ENABLE_HIVE_SUPPORT = True\n",
    "\n",
    "    def __init__(self):\n",
    "        self.spark = self._create_spark_session()\n",
    "\n",
    "ur = UpdateRecall()"
   ]
  },
  {
   "cell_type": "code",
   "execution_count": 2,
   "metadata": {},
   "outputs": [
    {
     "data": {
      "text/plain": [
       "DataFrame[]"
      ]
     },
     "execution_count": 2,
     "metadata": {},
     "output_type": "execute_result"
    }
   ],
   "source": [
    "ur.spark.sql(\"use profile\")"
   ]
  },
  {
   "cell_type": "code",
   "execution_count": 3,
   "metadata": {},
   "outputs": [],
   "source": [
    "user_article_click = ur.spark.sql(\"select * from user_article_basic\").\\\n",
    "            select(['user_id', 'article_id', 'clicked'])"
   ]
  },
  {
   "cell_type": "code",
   "execution_count": 4,
   "metadata": {},
   "outputs": [
    {
     "name": "stdout",
     "output_type": "stream",
     "text": [
      "+-------------------+----------+-------+\n",
      "|            user_id|article_id|clicked|\n",
      "+-------------------+----------+-------+\n",
      "|1105045287866466304|     14225|  false|\n",
      "|1106476833370537984|     14208|  false|\n",
      "|1111189494544990208|     19322|  false|\n",
      "|1111524501104885760|     44161|  false|\n",
      "|1112727762809913344|     18172|   true|\n",
      "|                  1|     44386|   true|\n",
      "|                  1|     44696|  false|\n",
      "|                 10|     43907|  false|\n",
      "|1106473203766657024|     16005|  false|\n",
      "|1108264901190615040|     15196|  false|\n",
      "|                 23|     44739|   true|\n",
      "|                 33|     13570|  false|\n",
      "|                  1|     17632|  false|\n",
      "|1106473203766657024|     17665|  false|\n",
      "|1111189494544990208|     44368|  false|\n",
      "|                 10|     44368|  false|\n",
      "|1105093883106164736|     15750|  false|\n",
      "|1106396183141548032|     19476|  false|\n",
      "|1111524501104885760|     19233|  false|\n",
      "|                  2|     44371|   true|\n",
      "+-------------------+----------+-------+\n",
      "only showing top 20 rows\n",
      "\n"
     ]
    }
   ],
   "source": [
    "user_article_click.show()"
   ]
  },
  {
   "cell_type": "code",
   "execution_count": 5,
   "metadata": {},
   "outputs": [],
   "source": [
    "# 更换类型\n",
    "def change_types(row):\n",
    "    return row.user_id, row.article_id, int(row.clicked)\n",
    "\n",
    "user_article_click = user_article_click.rdd.map(change_types).toDF(['user_id', 'article_id', 'clicked'])\n"
   ]
  },
  {
   "cell_type": "code",
   "execution_count": 6,
   "metadata": {},
   "outputs": [
    {
     "name": "stdout",
     "output_type": "stream",
     "text": [
      "+-------------------+----------+-------+\n",
      "|            user_id|article_id|clicked|\n",
      "+-------------------+----------+-------+\n",
      "|1105045287866466304|     14225|      0|\n",
      "|1106476833370537984|     14208|      0|\n",
      "|1111189494544990208|     19322|      0|\n",
      "|1111524501104885760|     44161|      0|\n",
      "|1112727762809913344|     18172|      1|\n",
      "|                  1|     44386|      1|\n",
      "|                  1|     44696|      0|\n",
      "|                 10|     43907|      0|\n",
      "|1106473203766657024|     16005|      0|\n",
      "|1108264901190615040|     15196|      0|\n",
      "|                 23|     44739|      1|\n",
      "|                 33|     13570|      0|\n",
      "|                  1|     17632|      0|\n",
      "|1106473203766657024|     17665|      0|\n",
      "|1111189494544990208|     44368|      0|\n",
      "|                 10|     44368|      0|\n",
      "|1105093883106164736|     15750|      0|\n",
      "|1106396183141548032|     19476|      0|\n",
      "|1111524501104885760|     19233|      0|\n",
      "|                  2|     44371|      1|\n",
      "+-------------------+----------+-------+\n",
      "only showing top 20 rows\n",
      "\n"
     ]
    }
   ],
   "source": [
    "user_article_click.show()"
   ]
  },
  {
   "cell_type": "code",
   "execution_count": 7,
   "metadata": {},
   "outputs": [
    {
     "name": "stdout",
     "output_type": "stream",
     "text": [
      "root\n",
      " |-- user_id: long (nullable = true)\n",
      " |-- article_id: long (nullable = true)\n",
      " |-- clicked: long (nullable = true)\n",
      "\n"
     ]
    }
   ],
   "source": [
    "user_article_click.printSchema()"
   ]
  },
  {
   "cell_type": "code",
   "execution_count": 8,
   "metadata": {},
   "outputs": [],
   "source": [
    "from pyspark.ml.feature import StringIndexer\n",
    "from pyspark.ml import Pipeline\n",
    "# 用户和文章ID超过ALS最大整数值，需要使用StringIndexer进行转换\n",
    "user_id_indexer = StringIndexer(inputCol='user_id', outputCol='als_user_id')\n",
    "article_id_indexer = StringIndexer(inputCol='article_id', outputCol='als_article_id')\n",
    "pip = Pipeline(stages=[user_id_indexer, article_id_indexer])\n",
    "pip_fit = pip.fit(user_article_click)\n",
    "als_user_article_click = pip_fit.transform(user_article_click)\n"
   ]
  },
  {
   "cell_type": "code",
   "execution_count": 9,
   "metadata": {},
   "outputs": [
    {
     "name": "stdout",
     "output_type": "stream",
     "text": [
      "+-------------------+----------+-------+-----------+--------------+\n",
      "|            user_id|article_id|clicked|als_user_id|als_article_id|\n",
      "+-------------------+----------+-------+-----------+--------------+\n",
      "|1105045287866466304|     14225|      0|        4.0|          15.0|\n",
      "|1106476833370537984|     14208|      0|        2.0|           2.0|\n",
      "|1111189494544990208|     19322|      0|        1.0|         133.0|\n",
      "|1111524501104885760|     44161|      0|        9.0|          37.0|\n",
      "|1112727762809913344|     18172|      1|       12.0|          54.0|\n",
      "|                  1|     44386|      1|       10.0|          11.0|\n",
      "|                  1|     44696|      0|       10.0|          97.0|\n",
      "|                 10|     43907|      0|        3.0|           1.0|\n",
      "|1106473203766657024|     16005|      0|        5.0|          32.0|\n",
      "|1108264901190615040|     15196|      0|        6.0|           7.0|\n",
      "|                 23|     44739|      1|       17.0|           4.0|\n",
      "|                 33|     13570|      0|       13.0|          19.0|\n",
      "|                  1|     17632|      0|       10.0|         143.0|\n",
      "|1106473203766657024|     17665|      0|        5.0|          25.0|\n",
      "|1111189494544990208|     44368|      0|        1.0|           3.0|\n",
      "|                 10|     44368|      0|        3.0|           3.0|\n",
      "|1105093883106164736|     15750|      0|       19.0|          39.0|\n",
      "|1106396183141548032|     19476|      0|        0.0|         121.0|\n",
      "|1111524501104885760|     19233|      0|        9.0|          36.0|\n",
      "|                  2|     44371|      1|       11.0|         174.0|\n",
      "+-------------------+----------+-------+-----------+--------------+\n",
      "only showing top 20 rows\n",
      "\n"
     ]
    }
   ],
   "source": [
    "als_user_article_click.show()"
   ]
  },
  {
   "cell_type": "code",
   "execution_count": 10,
   "metadata": {},
   "outputs": [],
   "source": [
    "from pyspark.ml.recommendation import ALS\n",
    "# 模型训练和推荐默认每个用户固定文章个数\n",
    "als = ALS(userCol='als_user_id', itemCol='als_article_id', ratingCol='clicked', checkpointInterval=1)\n",
    "model = als.fit(als_user_article_click)\n",
    "recall_res = model.recommendForAllUsers(100)"
   ]
  },
  {
   "cell_type": "code",
   "execution_count": 11,
   "metadata": {},
   "outputs": [
    {
     "data": {
      "text/plain": [
       "[Row(als_user_id=12, recommendations=[Row(als_article_id=206, rating=0.24584342539310455), Row(als_article_id=217, rating=0.24584342539310455), Row(als_article_id=89, rating=0.20355388522148132), Row(als_article_id=50, rating=0.1987779140472412), Row(als_article_id=75, rating=0.16880828142166138), Row(als_article_id=49, rating=0.16649414598941803), Row(als_article_id=55, rating=0.15852127969264984), Row(als_article_id=229, rating=0.15697592496871948), Row(als_article_id=209, rating=0.15697592496871948), Row(als_article_id=261, rating=0.15697592496871948), Row(als_article_id=153, rating=0.15697592496871948), Row(als_article_id=233, rating=0.15697592496871948), Row(als_article_id=223, rating=0.15697592496871948), Row(als_article_id=160, rating=0.15697592496871948), Row(als_article_id=174, rating=0.15697592496871948), Row(als_article_id=194, rating=0.15697592496871948), Row(als_article_id=204, rating=0.15697592496871948), Row(als_article_id=202, rating=0.15697592496871948), Row(als_article_id=232, rating=0.15697592496871948), Row(als_article_id=190, rating=0.15697592496871948), Row(als_article_id=255, rating=0.15697592496871948), Row(als_article_id=265, rating=0.15697592496871948), Row(als_article_id=156, rating=0.15697592496871948), Row(als_article_id=196, rating=0.15697592496871948), Row(als_article_id=216, rating=0.15697592496871948), Row(als_article_id=266, rating=0.15697592496871948), Row(als_article_id=246, rating=0.15697592496871948), Row(als_article_id=187, rating=0.15697592496871948), Row(als_article_id=181, rating=0.15697592496871948), Row(als_article_id=247, rating=0.15697592496871948), Row(als_article_id=191, rating=0.15697592496871948), Row(als_article_id=248, rating=0.15697592496871948), Row(als_article_id=169, rating=0.15697592496871948), Row(als_article_id=263, rating=0.14676745235919952), Row(als_article_id=54, rating=0.12865322828292847), Row(als_article_id=11, rating=0.11652465909719467), Row(als_article_id=52, rating=0.11593063175678253), Row(als_article_id=120, rating=0.11531824618577957), Row(als_article_id=116, rating=0.11531824618577957), Row(als_article_id=88, rating=0.11531824618577957), Row(als_article_id=115, rating=0.10116439312696457), Row(als_article_id=105, rating=0.10116439312696457), Row(als_article_id=6, rating=0.09795716404914856), Row(als_article_id=62, rating=0.09131219983100891), Row(als_article_id=4, rating=0.07845006883144379), Row(als_article_id=44, rating=0.07653911411762238), Row(als_article_id=251, rating=0.07347419112920761), Row(als_article_id=235, rating=0.07347419112920761), Row(als_article_id=236, rating=0.07347419112920761), Row(als_article_id=176, rating=0.07347419112920761), Row(als_article_id=222, rating=0.07347419112920761), Row(als_article_id=7, rating=0.07334485650062561), Row(als_article_id=10, rating=0.0670250728726387), Row(als_article_id=3, rating=0.063714399933815), Row(als_article_id=0, rating=0.06178494170308113), Row(als_article_id=15, rating=0.0542348213493824), Row(als_article_id=100, rating=0.05345098674297333), Row(als_article_id=5, rating=0.052778296172618866), Row(als_article_id=58, rating=0.052755195647478104), Row(als_article_id=36, rating=0.04152616485953331), Row(als_article_id=12, rating=0.03892454504966736), Row(als_article_id=132, rating=0.025708744302392006), Row(als_article_id=82, rating=0.025708744302392006), Row(als_article_id=95, rating=0.025708744302392006), Row(als_article_id=98, rating=0.025708744302392006), Row(als_article_id=53, rating=0.014754570089280605), Row(als_article_id=40, rating=0.014258754439651966), Row(als_article_id=20, rating=0.012495656497776508), Row(als_article_id=13, rating=0.0122005520388484), Row(als_article_id=39, rating=0.011567807756364346), Row(als_article_id=8, rating=0.009837635792791843), Row(als_article_id=21, rating=0.00950817670673132), Row(als_article_id=29, rating=0.00950817670673132), Row(als_article_id=93, rating=0.006132359616458416), Row(als_article_id=14, rating=0.005891792476177216), Row(als_article_id=51, rating=0.0033062638249248266), Row(als_article_id=38, rating=0.003264437662437558), Row(als_article_id=46, rating=0.003078075358644128), Row(als_article_id=48, rating=0.003078075358644128), Row(als_article_id=27, rating=0.0030352124013006687), Row(als_article_id=18, rating=0.0030352124013006687), Row(als_article_id=28, rating=0.0028565814718604088), Row(als_article_id=24, rating=0.0026900090742856264), Row(als_article_id=9, rating=0.00014160171849653125), Row(als_article_id=250, rating=0.0), Row(als_article_id=241, rating=0.0), Row(als_article_id=260, rating=0.0), Row(als_article_id=60, rating=0.0), Row(als_article_id=130, rating=0.0), Row(als_article_id=140, rating=0.0), Row(als_article_id=270, rating=0.0), Row(als_article_id=1, rating=0.0), Row(als_article_id=31, rating=0.0), Row(als_article_id=61, rating=0.0), Row(als_article_id=32, rating=0.0), Row(als_article_id=22, rating=0.0), Row(als_article_id=72, rating=0.0), Row(als_article_id=42, rating=0.0), Row(als_article_id=112, rating=0.0), Row(als_article_id=142, rating=0.0)]),\n",
       " Row(als_user_id=1, recommendations=[Row(als_article_id=93, rating=0.4280962646007538), Row(als_article_id=52, rating=0.21913881599903107), Row(als_article_id=251, rating=0.15124142169952393), Row(als_article_id=235, rating=0.15124142169952393), Row(als_article_id=222, rating=0.15124142169952393), Row(als_article_id=176, rating=0.15124142169952393), Row(als_article_id=236, rating=0.15124142169952393), Row(als_article_id=51, rating=0.1444975882768631), Row(als_article_id=120, rating=0.14044219255447388), Row(als_article_id=116, rating=0.14044219255447388), Row(als_article_id=88, rating=0.14044219255447388), Row(als_article_id=46, rating=0.13210703432559967), Row(als_article_id=48, rating=0.13210703432559967), Row(als_article_id=14, rating=0.13038356602191925), Row(als_article_id=86, rating=0.12421373277902603), Row(als_article_id=196, rating=0.12141483277082443), Row(als_article_id=204, rating=0.12141483277082443), Row(als_article_id=194, rating=0.12141483277082443), Row(als_article_id=246, rating=0.12141483277082443), Row(als_article_id=190, rating=0.12141483277082443), Row(als_article_id=266, rating=0.12141483277082443), Row(als_article_id=261, rating=0.12141483277082443), Row(als_article_id=153, rating=0.12141483277082443), Row(als_article_id=233, rating=0.12141483277082443), Row(als_article_id=223, rating=0.12141483277082443), Row(als_article_id=160, rating=0.12141483277082443), Row(als_article_id=174, rating=0.12141483277082443), Row(als_article_id=156, rating=0.12141483277082443), Row(als_article_id=169, rating=0.12141483277082443), Row(als_article_id=255, rating=0.12141483277082443), Row(als_article_id=202, rating=0.12141483277082443), Row(als_article_id=265, rating=0.12141483277082443), Row(als_article_id=232, rating=0.12141483277082443), Row(als_article_id=216, rating=0.12141483277082443), Row(als_article_id=187, rating=0.12141483277082443), Row(als_article_id=247, rating=0.12141483277082443), Row(als_article_id=248, rating=0.12141483277082443), Row(als_article_id=181, rating=0.12141483277082443), Row(als_article_id=191, rating=0.12141483277082443), Row(als_article_id=229, rating=0.12141483277082443), Row(als_article_id=209, rating=0.12141483277082443), Row(als_article_id=8, rating=0.12064727395772934), Row(als_article_id=206, rating=0.11461754143238068), Row(als_article_id=217, rating=0.11461754143238068), Row(als_article_id=24, rating=0.11276660859584808), Row(als_article_id=18, rating=0.11217872053384781), Row(als_article_id=27, rating=0.11217872053384781), Row(als_article_id=100, rating=0.11106066405773163), Row(als_article_id=62, rating=0.1032848060131073), Row(als_article_id=9, rating=0.09746108204126358), Row(als_article_id=11, rating=0.06626792997121811), Row(als_article_id=3, rating=0.06487245112657547), Row(als_article_id=54, rating=0.06207902729511261), Row(als_article_id=10, rating=0.05829654261469841), Row(als_article_id=49, rating=0.05815364420413971), Row(als_article_id=44, rating=0.056518275290727615), Row(als_article_id=89, rating=0.05369741469621658), Row(als_article_id=75, rating=0.05346444994211197), Row(als_article_id=7, rating=0.05201141536235809), Row(als_article_id=6, rating=0.05107717961072922), Row(als_article_id=0, rating=0.04866790398955345), Row(als_article_id=50, rating=0.04610511660575867), Row(als_article_id=4, rating=0.045839130878448486), Row(als_article_id=15, rating=0.04041257128119469), Row(als_article_id=40, rating=0.030567079782485962), Row(als_article_id=13, rating=0.027313649654388428), Row(als_article_id=23, rating=0.02647215873003006), Row(als_article_id=55, rating=0.023480646312236786), Row(als_article_id=38, rating=0.02269609458744526), Row(als_article_id=28, rating=0.01820484921336174), Row(als_article_id=58, rating=0.013057336211204529), Row(als_article_id=53, rating=0.007160235662013292), Row(als_article_id=21, rating=0.0042837378568947315), Row(als_article_id=29, rating=0.0042837378568947315), Row(als_article_id=26, rating=0.002153790323063731), Row(als_article_id=2, rating=0.0018509440124034882), Row(als_article_id=25, rating=0.001582600176334381), Row(als_article_id=20, rating=0.00021998723968863487), Row(als_article_id=201, rating=0.0), Row(als_article_id=243, rating=0.0), Row(als_article_id=113, rating=0.0), Row(als_article_id=30, rating=0.0), Row(als_article_id=143, rating=0.0), Row(als_article_id=250, rating=0.0), Row(als_article_id=270, rating=0.0), Row(als_article_id=140, rating=0.0), Row(als_article_id=240, rating=0.0), Row(als_article_id=241, rating=0.0), Row(als_article_id=260, rating=0.0), Row(als_article_id=60, rating=0.0), Row(als_article_id=31, rating=0.0), Row(als_article_id=61, rating=0.0), Row(als_article_id=211, rating=0.0), Row(als_article_id=221, rating=0.0), Row(als_article_id=1, rating=0.0), Row(als_article_id=130, rating=0.0), Row(als_article_id=32, rating=0.0), Row(als_article_id=42, rating=0.0), Row(als_article_id=112, rating=0.0), Row(als_article_id=22, rating=0.0)]),\n",
       " Row(als_user_id=13, recommendations=[Row(als_article_id=86, rating=0.2458631992340088), Row(als_article_id=93, rating=0.10103218257427216), Row(als_article_id=95, rating=0.07059235870838165), Row(als_article_id=98, rating=0.07059235870838165), Row(als_article_id=82, rating=0.07059235870838165), Row(als_article_id=132, rating=0.07059235870838165), Row(als_article_id=23, rating=0.0490134097635746), Row(als_article_id=39, rating=0.033391304314136505), Row(als_article_id=51, rating=0.03149896487593651), Row(als_article_id=46, rating=0.0286734439432621), Row(als_article_id=48, rating=0.0286734439432621), Row(als_article_id=14, rating=0.026631833985447884), Row(als_article_id=24, rating=0.024342017248272896), Row(als_article_id=27, rating=0.023080486804246902), Row(als_article_id=18, rating=0.023080486804246902), Row(als_article_id=9, rating=0.022121289744973183), Row(als_article_id=105, rating=0.016158174723386765), Row(als_article_id=115, rating=0.016158174723386765), Row(als_article_id=38, rating=0.006098749116063118), Row(als_article_id=263, rating=0.00496632419526577), Row(als_article_id=28, rating=0.0035513569600880146), Row(als_article_id=8, rating=0.0030639367178082466), Row(als_article_id=36, rating=0.002873173449188471), Row(als_article_id=12, rating=0.002788783982396126), Row(als_article_id=26, rating=0.0008550130296498537), Row(als_article_id=20, rating=0.0003901766613125801), Row(als_article_id=272, rating=0.0), Row(als_article_id=142, rating=0.0), Row(als_article_id=164, rating=0.0), Row(als_article_id=80, rating=0.0), Row(als_article_id=84, rating=0.0), Row(als_article_id=104, rating=0.0), Row(als_article_id=60, rating=0.0), Row(als_article_id=170, rating=0.0), Row(als_article_id=144, rating=0.0), Row(als_article_id=134, rating=0.0), Row(als_article_id=64, rating=0.0), Row(als_article_id=110, rating=0.0), Row(als_article_id=271, rating=0.0), Row(als_article_id=234, rating=0.0), Row(als_article_id=71, rating=0.0), Row(als_article_id=180, rating=0.0), Row(als_article_id=154, rating=0.0), Row(als_article_id=203, rating=0.0), Row(als_article_id=124, rating=0.0), Row(als_article_id=220, rating=0.0), Row(als_article_id=91, rating=0.0), Row(als_article_id=240, rating=0.0), Row(als_article_id=250, rating=0.0), Row(als_article_id=260, rating=0.0), Row(als_article_id=270, rating=0.0), Row(als_article_id=163, rating=0.0), Row(als_article_id=253, rating=0.0), Row(als_article_id=114, rating=0.0), Row(als_article_id=162, rating=0.0), Row(als_article_id=31, rating=0.0), Row(als_article_id=41, rating=0.0), Row(als_article_id=101, rating=0.0), Row(als_article_id=231, rating=0.0), Row(als_article_id=90, rating=0.0), Row(als_article_id=200, rating=0.0), Row(als_article_id=141, rating=0.0), Row(als_article_id=213, rating=0.0), Row(als_article_id=74, rating=0.0), Row(als_article_id=171, rating=0.0), Row(als_article_id=81, rating=0.0), Row(als_article_id=113, rating=0.0), Row(als_article_id=201, rating=0.0), Row(als_article_id=230, rating=0.0), Row(als_article_id=221, rating=0.0), Row(als_article_id=241, rating=0.0), Row(als_article_id=121, rating=0.0), Row(als_article_id=111, rating=0.0), Row(als_article_id=130, rating=0.0), Row(als_article_id=73, rating=0.0), Row(als_article_id=72, rating=0.0), Row(als_article_id=140, rating=0.0), Row(als_article_id=243, rating=0.0), Row(als_article_id=182, rating=0.0), Row(als_article_id=192, rating=0.0), Row(als_article_id=92, rating=0.0), Row(als_article_id=212, rating=0.0), Row(als_article_id=102, rating=0.0), Row(als_article_id=112, rating=0.0), Row(als_article_id=242, rating=0.0), Row(als_article_id=252, rating=0.0), Row(als_article_id=262, rating=0.0), Row(als_article_id=131, rating=0.0), Row(als_article_id=183, rating=0.0), Row(als_article_id=151, rating=0.0), Row(als_article_id=210, rating=0.0), Row(als_article_id=161, rating=0.0), Row(als_article_id=63, rating=0.0), Row(als_article_id=33, rating=0.0), Row(als_article_id=83, rating=0.0), Row(als_article_id=193, rating=0.0), Row(als_article_id=43, rating=0.0), Row(als_article_id=123, rating=0.0), Row(als_article_id=133, rating=0.0), Row(als_article_id=143, rating=0.0)]),\n",
       " Row(als_user_id=6, recommendations=[Row(als_article_id=263, rating=0.16696511209011078), Row(als_article_id=251, rating=0.15132777392864227), Row(als_article_id=235, rating=0.15132777392864227), Row(als_article_id=222, rating=0.15132777392864227), Row(als_article_id=236, rating=0.15132777392864227), Row(als_article_id=176, rating=0.15132777392864227), Row(als_article_id=100, rating=0.1116025298833847), Row(als_article_id=105, rating=0.10727836936712265), Row(als_article_id=115, rating=0.10727836936712265), Row(als_article_id=15, rating=0.09091367572546005), Row(als_article_id=93, rating=0.06196454539895058), Row(als_article_id=36, rating=0.052994128316640854), Row(als_article_id=12, rating=0.0493890605866909), Row(als_article_id=8, rating=0.040821004658937454), Row(als_article_id=6, rating=0.03372220695018768), Row(als_article_id=14, rating=0.032023835927248), Row(als_article_id=40, rating=0.03194747865200043), Row(als_article_id=3, rating=0.03145739436149597), Row(als_article_id=5, rating=0.028832606971263885), Row(als_article_id=13, rating=0.027858424931764603), Row(als_article_id=52, rating=0.025729641318321228), Row(als_article_id=51, rating=0.023273732513189316), Row(als_article_id=265, rating=0.021503113210201263), Row(als_article_id=204, rating=0.021503113210201263), Row(als_article_id=233, rating=0.021503113210201263), Row(als_article_id=194, rating=0.021503113210201263), Row(als_article_id=202, rating=0.021503113210201263), Row(als_article_id=232, rating=0.021503113210201263), Row(als_article_id=156, rating=0.021503113210201263), Row(als_article_id=216, rating=0.021503113210201263), Row(als_article_id=187, rating=0.021503113210201263), Row(als_article_id=261, rating=0.021503113210201263), Row(als_article_id=153, rating=0.021503113210201263), Row(als_article_id=223, rating=0.021503113210201263), Row(als_article_id=160, rating=0.021503113210201263), Row(als_article_id=174, rating=0.021503113210201263), Row(als_article_id=255, rating=0.021503113210201263), Row(als_article_id=190, rating=0.021503113210201263), Row(als_article_id=196, rating=0.021503113210201263), Row(als_article_id=246, rating=0.021503113210201263), Row(als_article_id=266, rating=0.021503113210201263), Row(als_article_id=247, rating=0.021503113210201263), Row(als_article_id=181, rating=0.021503113210201263), Row(als_article_id=191, rating=0.021503113210201263), Row(als_article_id=248, rating=0.021503113210201263), Row(als_article_id=209, rating=0.021503113210201263), Row(als_article_id=169, rating=0.021503113210201263), Row(als_article_id=229, rating=0.021503113210201263), Row(als_article_id=48, rating=0.021372828632593155), Row(als_article_id=46, rating=0.021372828632593155), Row(als_article_id=20, rating=0.019596902653574944), Row(als_article_id=24, rating=0.018380194902420044), Row(als_article_id=18, rating=0.018293190747499466), Row(als_article_id=27, rating=0.018293190747499466), Row(als_article_id=38, rating=0.01803477108478546), Row(als_article_id=62, rating=0.01738090254366398), Row(als_article_id=116, rating=0.016757365316152573), Row(als_article_id=88, rating=0.016757365316152573), Row(als_article_id=120, rating=0.016757365316152573), Row(als_article_id=86, rating=0.01635587587952614), Row(als_article_id=9, rating=0.016217820346355438), Row(als_article_id=49, rating=0.014559448696672916), Row(als_article_id=28, rating=0.013730643317103386), Row(als_article_id=50, rating=0.012655192986130714), Row(als_article_id=10, rating=0.011248687282204628), Row(als_article_id=0, rating=0.009311716072261333), Row(als_article_id=54, rating=0.009269232861697674), Row(als_article_id=206, rating=0.007899275049567223), Row(als_article_id=217, rating=0.007899275049567223), Row(als_article_id=44, rating=0.007587502710521221), Row(als_article_id=7, rating=0.006143868900835514), Row(als_article_id=11, rating=0.005709263030439615), Row(als_article_id=55, rating=0.005016939714550972), Row(als_article_id=23, rating=0.004001711029559374), Row(als_article_id=25, rating=0.0017447322607040405), Row(als_article_id=26, rating=0.0017132398206740618), Row(als_article_id=2, rating=0.0013116709887981415), Row(als_article_id=243, rating=0.0), Row(als_article_id=123, rating=0.0), Row(als_article_id=133, rating=0.0), Row(als_article_id=30, rating=0.0), Row(als_article_id=143, rating=0.0), Row(als_article_id=250, rating=0.0), Row(als_article_id=130, rating=0.0), Row(als_article_id=140, rating=0.0), Row(als_article_id=240, rating=0.0), Row(als_article_id=241, rating=0.0), Row(als_article_id=260, rating=0.0), Row(als_article_id=271, rating=0.0), Row(als_article_id=60, rating=0.0), Row(als_article_id=31, rating=0.0), Row(als_article_id=1, rating=0.0), Row(als_article_id=211, rating=0.0), Row(als_article_id=221, rating=0.0), Row(als_article_id=22, rating=0.0), Row(als_article_id=270, rating=0.0), Row(als_article_id=32, rating=0.0), Row(als_article_id=42, rating=0.0), Row(als_article_id=122, rating=0.0), Row(als_article_id=112, rating=0.0)]),\n",
       " Row(als_user_id=16, recommendations=[Row(als_article_id=0, rating=0.0), Row(als_article_id=10, rating=0.0), Row(als_article_id=20, rating=0.0), Row(als_article_id=30, rating=0.0), Row(als_article_id=40, rating=0.0), Row(als_article_id=50, rating=0.0), Row(als_article_id=60, rating=0.0), Row(als_article_id=70, rating=0.0), Row(als_article_id=80, rating=0.0), Row(als_article_id=90, rating=0.0), Row(als_article_id=100, rating=0.0), Row(als_article_id=110, rating=0.0), Row(als_article_id=120, rating=0.0), Row(als_article_id=130, rating=0.0), Row(als_article_id=140, rating=0.0), Row(als_article_id=150, rating=0.0), Row(als_article_id=160, rating=0.0), Row(als_article_id=170, rating=0.0), Row(als_article_id=180, rating=0.0), Row(als_article_id=190, rating=0.0), Row(als_article_id=200, rating=0.0), Row(als_article_id=210, rating=0.0), Row(als_article_id=220, rating=0.0), Row(als_article_id=230, rating=0.0), Row(als_article_id=240, rating=0.0), Row(als_article_id=250, rating=0.0), Row(als_article_id=260, rating=0.0), Row(als_article_id=270, rating=0.0), Row(als_article_id=1, rating=0.0), Row(als_article_id=11, rating=0.0), Row(als_article_id=21, rating=0.0), Row(als_article_id=31, rating=0.0), Row(als_article_id=41, rating=0.0), Row(als_article_id=51, rating=0.0), Row(als_article_id=61, rating=0.0), Row(als_article_id=71, rating=0.0), Row(als_article_id=81, rating=0.0), Row(als_article_id=91, rating=0.0), Row(als_article_id=101, rating=0.0), Row(als_article_id=111, rating=0.0), Row(als_article_id=121, rating=0.0), Row(als_article_id=131, rating=0.0), Row(als_article_id=141, rating=0.0), Row(als_article_id=151, rating=0.0), Row(als_article_id=161, rating=0.0), Row(als_article_id=171, rating=0.0), Row(als_article_id=181, rating=0.0), Row(als_article_id=191, rating=0.0), Row(als_article_id=201, rating=0.0), Row(als_article_id=211, rating=0.0), Row(als_article_id=221, rating=0.0), Row(als_article_id=231, rating=0.0), Row(als_article_id=241, rating=0.0), Row(als_article_id=251, rating=0.0), Row(als_article_id=261, rating=0.0), Row(als_article_id=271, rating=0.0), Row(als_article_id=2, rating=0.0), Row(als_article_id=12, rating=0.0), Row(als_article_id=22, rating=0.0), Row(als_article_id=32, rating=0.0), Row(als_article_id=42, rating=0.0), Row(als_article_id=52, rating=0.0), Row(als_article_id=62, rating=0.0), Row(als_article_id=72, rating=0.0), Row(als_article_id=82, rating=0.0), Row(als_article_id=92, rating=0.0), Row(als_article_id=102, rating=0.0), Row(als_article_id=112, rating=0.0), Row(als_article_id=122, rating=0.0), Row(als_article_id=132, rating=0.0), Row(als_article_id=142, rating=0.0), Row(als_article_id=152, rating=0.0), Row(als_article_id=162, rating=0.0), Row(als_article_id=172, rating=0.0), Row(als_article_id=182, rating=0.0), Row(als_article_id=192, rating=0.0), Row(als_article_id=202, rating=0.0), Row(als_article_id=212, rating=0.0), Row(als_article_id=222, rating=0.0), Row(als_article_id=232, rating=0.0), Row(als_article_id=242, rating=0.0), Row(als_article_id=252, rating=0.0), Row(als_article_id=262, rating=0.0), Row(als_article_id=272, rating=0.0), Row(als_article_id=3, rating=0.0), Row(als_article_id=13, rating=0.0), Row(als_article_id=23, rating=0.0), Row(als_article_id=33, rating=0.0), Row(als_article_id=43, rating=0.0), Row(als_article_id=53, rating=0.0), Row(als_article_id=63, rating=0.0), Row(als_article_id=73, rating=0.0), Row(als_article_id=83, rating=0.0), Row(als_article_id=93, rating=0.0), Row(als_article_id=103, rating=0.0), Row(als_article_id=113, rating=0.0), Row(als_article_id=123, rating=0.0), Row(als_article_id=133, rating=0.0), Row(als_article_id=143, rating=0.0), Row(als_article_id=153, rating=0.0)])]"
      ]
     },
     "execution_count": 11,
     "metadata": {},
     "output_type": "execute_result"
    }
   ],
   "source": [
    "recall_res.rdd.take(5)"
   ]
  },
  {
   "cell_type": "code",
   "execution_count": 12,
   "metadata": {},
   "outputs": [],
   "source": [
    "# 保存原来的下表映射关系\n",
    "refection_user = als_user_article_click.groupBy(['user_id']).max('als_user_id').withColumnRenamed(\n",
    "'max(als_user_id)', 'als_user_id')\n",
    "refection_article = als_user_article_click.groupBy(['article_id']).max('als_article_id').withColumnRenamed(\n",
    "'max(als_article_id)', 'als_article_id')"
   ]
  },
  {
   "cell_type": "code",
   "execution_count": 13,
   "metadata": {},
   "outputs": [
    {
     "name": "stdout",
     "output_type": "stream",
     "text": [
      "+-------------------+-----------+\n",
      "|            user_id|als_user_id|\n",
      "+-------------------+-----------+\n",
      "|1106473203766657024|        5.0|\n",
      "|1103195673450250240|        7.0|\n",
      "|1105045287866466304|        4.0|\n",
      "|1111524501104885760|        9.0|\n",
      "|1105105185656537088|        8.0|\n",
      "|1113316420155867136|       18.0|\n",
      "|                 33|       13.0|\n",
      "|                  1|       10.0|\n",
      "|1113244157343694848|       15.0|\n",
      "|                 10|        3.0|\n",
      "|1113053603926376448|       20.0|\n",
      "|1112727762809913344|       12.0|\n",
      "|                  2|       11.0|\n",
      "|                  4|       14.0|\n",
      "|1106476833370537984|        2.0|\n",
      "|1106396183141548032|        0.0|\n",
      "|                 38|       16.0|\n",
      "|                 23|       17.0|\n",
      "|1108264901190615040|        6.0|\n",
      "|1111189494544990208|        1.0|\n",
      "+-------------------+-----------+\n",
      "only showing top 20 rows\n",
      "\n"
     ]
    }
   ],
   "source": [
    "refection_user.show()"
   ]
  },
  {
   "cell_type": "code",
   "execution_count": 14,
   "metadata": {},
   "outputs": [
    {
     "name": "stdout",
     "output_type": "stream",
     "text": [
      "+-------------------+--------------+\n",
      "|         article_id|als_article_id|\n",
      "+-------------------+--------------+\n",
      "|              13401|         146.0|\n",
      "|              14805|           0.0|\n",
      "|1112593324574769152|         119.0|\n",
      "|              44013|         130.0|\n",
      "|              16158|         118.0|\n",
      "|              17454|         216.0|\n",
      "|             134736|         215.0|\n",
      "|              14839|         258.0|\n",
      "|              14883|         138.0|\n",
      "|              14972|          78.0|\n",
      "|             134730|         170.0|\n",
      "|              14442|         203.0|\n",
      "|              17802|         190.0|\n",
      "|              19259|          85.0|\n",
      "|              17605|          89.0|\n",
      "|              17748|         123.0|\n",
      "|              18038|          45.0|\n",
      "|              17866|         228.0|\n",
      "|              13357|         173.0|\n",
      "|              44693|         109.0|\n",
      "+-------------------+--------------+\n",
      "only showing top 20 rows\n",
      "\n"
     ]
    }
   ],
   "source": [
    "refection_article.show()"
   ]
  },
  {
   "cell_type": "code",
   "execution_count": 15,
   "metadata": {},
   "outputs": [],
   "source": [
    "recall_res = recall_res.join(refection_user, on=['als_user_id'], how='left').select(\n",
    "['als_user_id', 'recommendations', 'user_id'])"
   ]
  },
  {
   "cell_type": "code",
   "execution_count": 16,
   "metadata": {},
   "outputs": [
    {
     "name": "stdout",
     "output_type": "stream",
     "text": [
      "+-----------+--------------------+-------------------+\n",
      "|als_user_id|     recommendations|            user_id|\n",
      "+-----------+--------------------+-------------------+\n",
      "|          8|[[263,0.36433065]...|1105105185656537088|\n",
      "|          0|[[251,0.64322466]...|1106396183141548032|\n",
      "|          7|[[120,0.06348746]...|1103195673450250240|\n",
      "|         18|[[0,0.0], [10,0.0...|1113316420155867136|\n",
      "|          1|[[93,0.42809626],...|1111189494544990208|\n",
      "|          4|[[263,0.01827759]...|1105045287866466304|\n",
      "|         11|[[206,0.9502387],...|                  2|\n",
      "|         14|[[206,0.6877553],...|                  4|\n",
      "|          3|[[261,0.041544966...|                 10|\n",
      "|         19|[[25,0.24205461],...|1105093883106164736|\n",
      "|          2|[[263,0.63030016]...|1106476833370537984|\n",
      "|         17|[[120,0.3623774],...|                 23|\n",
      "|         10|[[206,0.7823634],...|                  1|\n",
      "|         13|[[86,0.2458632], ...|                 33|\n",
      "|          6|[[263,0.16696511]...|1108264901190615040|\n",
      "|         20|[[0,0.0], [10,0.0...|1113053603926376448|\n",
      "|          5|[[263,0.020418603...|1106473203766657024|\n",
      "|         15|[[95,0.71072346],...|1113244157343694848|\n",
      "|          9|[[0,0.0], [10,0.0...|1111524501104885760|\n",
      "|         16|[[0,0.0], [10,0.0...|                 38|\n",
      "+-----------+--------------------+-------------------+\n",
      "only showing top 20 rows\n",
      "\n"
     ]
    }
   ],
   "source": [
    "recall_res.show()"
   ]
  },
  {
   "cell_type": "code",
   "execution_count": 17,
   "metadata": {},
   "outputs": [],
   "source": [
    "import pyspark.sql.functions as F\n",
    "recall_res = recall_res.withColumn('als_article_id', F.explode('recommendations')).drop('recommendations')\n"
   ]
  },
  {
   "cell_type": "code",
   "execution_count": 18,
   "metadata": {},
   "outputs": [
    {
     "name": "stdout",
     "output_type": "stream",
     "text": [
      "+-----------+-------------------+----------------+\n",
      "|als_user_id|            user_id|  als_article_id|\n",
      "+-----------+-------------------+----------------+\n",
      "|          8|1105105185656537088|[263,0.36433065]|\n",
      "|          8|1105105185656537088|[105,0.25173277]|\n",
      "|          8|1105105185656537088|[115,0.25173277]|\n",
      "|          8|1105105185656537088|[251,0.17713536]|\n",
      "|          8|1105105185656537088|[235,0.17713536]|\n",
      "|          8|1105105185656537088|[222,0.17713536]|\n",
      "|          8|1105105185656537088|[176,0.17713536]|\n",
      "|          8|1105105185656537088|[236,0.17713536]|\n",
      "|          8|1105105185656537088| [15,0.15716684]|\n",
      "|          8|1105105185656537088|[100,0.13071595]|\n",
      "|          8|1105105185656537088| [36,0.11427968]|\n",
      "|          8|1105105185656537088| [12,0.10651863]|\n",
      "|          8|1105105185656537088|  [5,0.06923568]|\n",
      "|          8|1105105185656537088| [6,0.041910112]|\n",
      "|          8|1105105185656537088|[20,0.039821483]|\n",
      "|          8|1105105185656537088| [50,0.03866965]|\n",
      "|          8|1105105185656537088|[40,0.035369676]|\n",
      "|          8|1105105185656537088|[13,0.031025121]|\n",
      "|          8|1105105185656537088| [3,0.030961342]|\n",
      "|          8|1105105185656537088|[49,0.028416602]|\n",
      "+-----------+-------------------+----------------+\n",
      "only showing top 20 rows\n",
      "\n"
     ]
    }
   ],
   "source": [
    "recall_res.show()"
   ]
  },
  {
   "cell_type": "code",
   "execution_count": 20,
   "metadata": {},
   "outputs": [],
   "source": [
    "def _article_id(row):\n",
    "    return row.als_user_id, row.user_id, row.als_article_id[0]"
   ]
  },
  {
   "cell_type": "code",
   "execution_count": 21,
   "metadata": {},
   "outputs": [],
   "source": [
    "als_recall = recall_res.rdd.map(_article_id).toDF(['als_user_id', 'user_id', 'als_article_id'])\n"
   ]
  },
  {
   "cell_type": "code",
   "execution_count": 22,
   "metadata": {},
   "outputs": [
    {
     "name": "stdout",
     "output_type": "stream",
     "text": [
      "+-----------+-------------------+--------------+\n",
      "|als_user_id|            user_id|als_article_id|\n",
      "+-----------+-------------------+--------------+\n",
      "|          8|1105105185656537088|           263|\n",
      "|          8|1105105185656537088|           105|\n",
      "|          8|1105105185656537088|           115|\n",
      "|          8|1105105185656537088|           251|\n",
      "|          8|1105105185656537088|           235|\n",
      "|          8|1105105185656537088|           222|\n",
      "|          8|1105105185656537088|           176|\n",
      "|          8|1105105185656537088|           236|\n",
      "|          8|1105105185656537088|            15|\n",
      "|          8|1105105185656537088|           100|\n",
      "|          8|1105105185656537088|            36|\n",
      "|          8|1105105185656537088|            12|\n",
      "|          8|1105105185656537088|             5|\n",
      "|          8|1105105185656537088|             6|\n",
      "|          8|1105105185656537088|            20|\n",
      "|          8|1105105185656537088|            50|\n",
      "|          8|1105105185656537088|            40|\n",
      "|          8|1105105185656537088|            13|\n",
      "|          8|1105105185656537088|             3|\n",
      "|          8|1105105185656537088|            49|\n",
      "+-----------+-------------------+--------------+\n",
      "only showing top 20 rows\n",
      "\n"
     ]
    }
   ],
   "source": [
    "als_recall.show()"
   ]
  },
  {
   "cell_type": "code",
   "execution_count": 23,
   "metadata": {},
   "outputs": [],
   "source": [
    "als_recall = als_recall.join(refection_article, on=['als_article_id'], how='left').select(\n",
    "  ['user_id', 'article_id'])"
   ]
  },
  {
   "cell_type": "code",
   "execution_count": 24,
   "metadata": {},
   "outputs": [
    {
     "name": "stdout",
     "output_type": "stream",
     "text": [
      "+-------------------+----------+\n",
      "|            user_id|article_id|\n",
      "+-------------------+----------+\n",
      "|1113316420155867136|    134730|\n",
      "|                 33|    134730|\n",
      "|1113053603926376448|    134730|\n",
      "|1111524501104885760|    134730|\n",
      "|                 38|    134730|\n",
      "|1105105185656537088|     18127|\n",
      "|1106396183141548032|     18127|\n",
      "|1103195673450250240|     18127|\n",
      "|1113316420155867136|     18127|\n",
      "|1111189494544990208|     18127|\n",
      "|1105045287866466304|     18127|\n",
      "|                  2|     18127|\n",
      "|                  4|     18127|\n",
      "|                 10|     18127|\n",
      "|1106476833370537984|     18127|\n",
      "|                 23|     18127|\n",
      "|                  1|     18127|\n",
      "|1108264901190615040|     18127|\n",
      "|1113053603926376448|     18127|\n",
      "|1106473203766657024|     18127|\n",
      "+-------------------+----------+\n",
      "only showing top 20 rows\n",
      "\n"
     ]
    }
   ],
   "source": [
    "als_recall.show()"
   ]
  },
  {
   "cell_type": "code",
   "execution_count": 25,
   "metadata": {},
   "outputs": [],
   "source": [
    "ur.spark.sql(\"use toutiao\")\n",
    "news_article_basic = ur.spark.sql(\"select article_id, channel_id from news_article_basic\")\n",
    "\n",
    "als_recall = als_recall.join(news_article_basic, on=['article_id'], how='left')"
   ]
  },
  {
   "cell_type": "code",
   "execution_count": 26,
   "metadata": {},
   "outputs": [
    {
     "name": "stdout",
     "output_type": "stream",
     "text": [
      "+----------+-------------------+----------+\n",
      "|article_id|            user_id|channel_id|\n",
      "+----------+-------------------+----------+\n",
      "|    134730|1113316420155867136|        18|\n",
      "|    134730|                 33|        18|\n",
      "|    134730|1113053603926376448|        18|\n",
      "|    134730|1111524501104885760|        18|\n",
      "|    134730|                 38|        18|\n",
      "|     18127|1105105185656537088|        18|\n",
      "|     18127|1106396183141548032|        18|\n",
      "|     18127|1103195673450250240|        18|\n",
      "|     18127|1113316420155867136|        18|\n",
      "|     18127|1111189494544990208|        18|\n",
      "|     18127|1105045287866466304|        18|\n",
      "|     18127|                  2|        18|\n",
      "|     18127|                  4|        18|\n",
      "|     18127|                 10|        18|\n",
      "|     18127|1106476833370537984|        18|\n",
      "|     18127|                 23|        18|\n",
      "|     18127|                  1|        18|\n",
      "|     18127|1108264901190615040|        18|\n",
      "|     18127|1113053603926376448|        18|\n",
      "|     18127|1106473203766657024|        18|\n",
      "+----------+-------------------+----------+\n",
      "only showing top 20 rows\n",
      "\n"
     ]
    }
   ],
   "source": [
    "als_recall.show()"
   ]
  },
  {
   "cell_type": "code",
   "execution_count": 27,
   "metadata": {},
   "outputs": [],
   "source": [
    "als_recall = als_recall.groupBy(['user_id', 'channel_id']).agg(F.collect_list('article_id')).withColumnRenamed(\n",
    "  'collect_list(article_id)', 'article_list')"
   ]
  },
  {
   "cell_type": "code",
   "execution_count": 28,
   "metadata": {},
   "outputs": [
    {
     "name": "stdout",
     "output_type": "stream",
     "text": [
      "+-------------------+----------+--------------------+\n",
      "|            user_id|channel_id|        article_list|\n",
      "+-------------------+----------+--------------------+\n",
      "|1113244157343694848|         7|    [141437, 141469]|\n",
      "|1108264901190615040|         7|    [141437, 141469]|\n",
      "|1106396183141548032|         7|    [141437, 141469]|\n",
      "|1103195673450250240|         5|            [141440]|\n",
      "|1108264901190615040|        18|[18127, 16421, 18...|\n",
      "|1106473203766657024|        18|[18127, 16421, 18...|\n",
      "|                  4|         7|    [141437, 141469]|\n",
      "|                  2|         5|            [141440]|\n",
      "|                 23|         7|    [141437, 141469]|\n",
      "|1106396183141548032|        13|            [141431]|\n",
      "|1113053603926376448|        13|            [141431]|\n",
      "|1103195673450250240|      null|[1112608068731928...|\n",
      "|1113053603926376448|         7|            [141437]|\n",
      "|1111524501104885760|      null|[1112592065390182...|\n",
      "|                 10|         7|    [141437, 141469]|\n",
      "|1106476833370537984|         7|    [141437, 141469]|\n",
      "|1111189494544990208|        13|            [141431]|\n",
      "|1103195673450250240|         7|    [141437, 141469]|\n",
      "|1108264901190615040|         5|            [141440]|\n",
      "|1105105185656537088|        18|[18127, 16421, 18...|\n",
      "+-------------------+----------+--------------------+\n",
      "only showing top 20 rows\n",
      "\n"
     ]
    }
   ],
   "source": [
    "als_recall.show()"
   ]
  },
  {
   "cell_type": "code",
   "execution_count": null,
   "metadata": {},
   "outputs": [],
   "source": []
  },
  {
   "cell_type": "markdown",
   "metadata": {},
   "source": [
    "### 离线基于内容相似召回"
   ]
  },
  {
   "cell_type": "code",
   "execution_count": 30,
   "metadata": {},
   "outputs": [],
   "source": [
    "ur.spark.sql(\"use profile\")\n",
    "user_article_basic = ur.spark.sql(\"select * from user_article_basic\")\n",
    "user_article_basic = user_article_basic.filter('clicked=True')"
   ]
  },
  {
   "cell_type": "code",
   "execution_count": 31,
   "metadata": {},
   "outputs": [
    {
     "name": "stdout",
     "output_type": "stream",
     "text": [
      "+-------------------+-------------------+----------+----------+------+-------+---------+--------+---------+\n",
      "|            user_id|        action_time|article_id|channel_id|shared|clicked|collected|exposure|read_time|\n",
      "+-------------------+-------------------+----------+----------+------+-------+---------+--------+---------+\n",
      "|1112727762809913344|2019-04-03 12:51:57|     18172|        18| false|   true|     true|    true|    19413|\n",
      "|                  1|2019-03-07 16:57:34|     44386|        18| false|   true|    false|    true|    17850|\n",
      "|                 23|2019-04-03 08:10:23|     44739|        18| false|   true|    false|    true|    14216|\n",
      "|                  2|2019-03-05 10:19:54|     44371|        18| false|   true|    false|    true|      938|\n",
      "|                  2|2019-03-07 10:06:20|     18103|        18| false|   true|    false|    true|      648|\n",
      "|1111189494544990208|2019-03-28 16:56:55|     44737|        18| false|   true|    false|    true|     4138|\n",
      "|                  2|2019-03-15 14:51:12|     43894|        18| false|   true|    false|    true|      928|\n",
      "|1106396183141548032|2019-03-28 10:55:51|     18156|        18| false|   true|    false|    true|     9902|\n",
      "|                  2|2019-04-03 09:40:39|     18005|        18| false|   true|    false|    true|    16900|\n",
      "|                 23|2019-04-03 10:03:05|     13751|        18| false|   true|    false|    true|     9895|\n",
      "|                  1|2019-03-20 18:13:11|    141469|         7| false|   true|    false|    true|     9916|\n",
      "|                  2|2019-03-07 10:05:29|     18836|        18| false|   true|    false|    true|      835|\n",
      "|                  2|2019-03-07 10:06:57|     14961|        18| false|   true|    false|    true|     5248|\n",
      "|                  1|2019-03-20 15:02:56|    141437|         7| false|   true|    false|    true|     2012|\n",
      "|                  2|2019-03-15 11:42:42|     13890|        18| false|   true|    false|    true|      426|\n",
      "|                 33|2019-03-11 18:03:59|     17304|        18| false|   true|    false|    true|         |\n",
      "|                  1|2019-03-20 15:06:52|    141440|         5| false|   true|    false|    true|     2329|\n",
      "|1111189494544990208|2019-03-28 16:57:35|     13750|        18| false|   true|    false|    true|    29997|\n",
      "|1111189494544990208|2019-03-28 16:59:28|     18795|        18| false|   true|    false|    true|     8307|\n",
      "|1111189494544990208|2019-03-28 17:01:22|     18335|        18| false|   true|    false|    true|     3260|\n",
      "+-------------------+-------------------+----------+----------+------+-------+---------+--------+---------+\n",
      "only showing top 20 rows\n",
      "\n"
     ]
    }
   ],
   "source": [
    "user_article_basic.show()"
   ]
  },
  {
   "cell_type": "code",
   "execution_count": null,
   "metadata": {},
   "outputs": [],
   "source": []
  },
  {
   "cell_type": "code",
   "execution_count": null,
   "metadata": {},
   "outputs": [],
   "source": []
  },
  {
   "cell_type": "code",
   "execution_count": null,
   "metadata": {},
   "outputs": [],
   "source": []
  },
  {
   "cell_type": "code",
   "execution_count": null,
   "metadata": {},
   "outputs": [],
   "source": []
  },
  {
   "cell_type": "code",
   "execution_count": null,
   "metadata": {},
   "outputs": [],
   "source": []
  },
  {
   "cell_type": "code",
   "execution_count": null,
   "metadata": {},
   "outputs": [],
   "source": []
  },
  {
   "cell_type": "code",
   "execution_count": null,
   "metadata": {},
   "outputs": [],
   "source": []
  },
  {
   "cell_type": "code",
   "execution_count": null,
   "metadata": {},
   "outputs": [],
   "source": []
  },
  {
   "cell_type": "code",
   "execution_count": null,
   "metadata": {},
   "outputs": [],
   "source": []
  },
  {
   "cell_type": "code",
   "execution_count": null,
   "metadata": {},
   "outputs": [],
   "source": []
  },
  {
   "cell_type": "code",
   "execution_count": null,
   "metadata": {},
   "outputs": [],
   "source": []
  },
  {
   "cell_type": "code",
   "execution_count": null,
   "metadata": {},
   "outputs": [],
   "source": []
  },
  {
   "cell_type": "code",
   "execution_count": null,
   "metadata": {},
   "outputs": [],
   "source": []
  },
  {
   "cell_type": "code",
   "execution_count": null,
   "metadata": {},
   "outputs": [],
   "source": []
  },
  {
   "cell_type": "code",
   "execution_count": null,
   "metadata": {},
   "outputs": [],
   "source": []
  }
 ],
 "metadata": {
  "kernelspec": {
   "display_name": "Python 3",
   "language": "python",
   "name": "python3"
  },
  "language_info": {
   "codemirror_mode": {
    "name": "ipython",
    "version": 3
   },
   "file_extension": ".py",
   "mimetype": "text/x-python",
   "name": "python",
   "nbconvert_exporter": "python",
   "pygments_lexer": "ipython3",
   "version": "3.6.7"
  }
 },
 "nbformat": 4,
 "nbformat_minor": 2
}
