{
 "cells": [
  {
   "cell_type": "code",
   "execution_count": 1,
   "metadata": {},
   "outputs": [
    {
     "name": "stdout",
     "output_type": "stream",
     "text": [
      "[2020-05-12 14-22-53]send: spool\n",
      "[2020-05-12 14-22-53]send: .flumespool\n",
      "[2020-05-12 14-22-53]send: recommendsuper.log\n",
      "[2020-05-12 14-22-53]send: kafka.log\n",
      "[2020-05-12 14-22-53]send: userClick.log.bak\n",
      "[2020-05-12 14-22-53]send: offlinesuper.log.bak\n",
      "[2020-05-12 14-22-53]send: offlinesuper.log\n",
      "[2020-05-12 14-22-53]send: access.log\n",
      "[2020-05-12 14-22-53]send: nginx.log\n",
      "[2020-05-12 14-22-53]send: web.log\n",
      "[2020-05-12 14-22-53]send: offline.log\n",
      "[2020-05-12 14-22-53]send: online.log\n",
      "[2020-05-12 14-22-53]send: recommend.log\n",
      "[2020-05-12 14-22-53]send: collect.log\n",
      "[2020-05-12 14-22-53]send: onlinesuper.log\n",
      "[2020-05-12 14-22-53]send: userClick.log\n"
     ]
    }
   ],
   "source": [
    "from kafka import KafkaProducer\n",
    "import json\n",
    "import os\n",
    "import time\n",
    "\n",
    "producer = KafkaProducer(bootstrap_servers='192.168.19.137:9092')\n",
    "\n",
    "def log(str):\n",
    "    t = time.strftime(r\"%Y-%m-%d %H-%M-%S\",time.localtime())\n",
    "    print(\"[%s]%s\"%(t,str))\n",
    "\n",
    "def list_file(path):\n",
    "    dir_list = os.listdir(path);\n",
    "    for f in dir_list:\n",
    "        producer.send('test3',f.encode())\n",
    "        producer.flush()\n",
    "        log('send: %s' % (f))    \n",
    "\n",
    "list_file(\"/root/logs/\")\n",
    "producer.close()"
   ]
  },
  {
   "cell_type": "code",
   "execution_count": null,
   "metadata": {},
   "outputs": [],
   "source": []
  }
 ],
 "metadata": {
  "kernelspec": {
   "display_name": "Python 3",
   "language": "python",
   "name": "python3"
  },
  "language_info": {
   "codemirror_mode": {
    "name": "ipython",
    "version": 3
   },
   "file_extension": ".py",
   "mimetype": "text/x-python",
   "name": "python",
   "nbconvert_exporter": "python",
   "pygments_lexer": "ipython3",
   "version": "3.6.7"
  }
 },
 "nbformat": 4,
 "nbformat_minor": 2
}
