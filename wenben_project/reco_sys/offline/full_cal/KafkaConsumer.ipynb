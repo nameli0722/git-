{
 "cells": [
  {
   "cell_type": "code",
   "execution_count": null,
   "metadata": {},
   "outputs": [
    {
     "name": "stdout",
     "output_type": "stream",
     "text": [
      "[2020-05-12 14-22-41]start consumer\n",
      "[2020-05-12 14-22-53]test3:0:0: key=None value=b'spool'\n",
      "[2020-05-12 14-22-53]test3:0:1: key=None value=b'.flumespool'\n",
      "[2020-05-12 14-22-53]test3:0:2: key=None value=b'recommendsuper.log'\n",
      "[2020-05-12 14-22-53]test3:0:3: key=None value=b'kafka.log'\n",
      "[2020-05-12 14-22-53]test3:0:4: key=None value=b'userClick.log.bak'\n",
      "[2020-05-12 14-22-53]test3:0:5: key=None value=b'offlinesuper.log.bak'\n",
      "[2020-05-12 14-22-53]test3:0:6: key=None value=b'offlinesuper.log'\n",
      "[2020-05-12 14-22-53]test3:0:7: key=None value=b'access.log'\n",
      "[2020-05-12 14-22-53]test3:0:8: key=None value=b'nginx.log'\n",
      "[2020-05-12 14-22-53]test3:0:9: key=None value=b'web.log'\n",
      "[2020-05-12 14-22-53]test3:0:10: key=None value=b'offline.log'\n",
      "[2020-05-12 14-22-53]test3:0:11: key=None value=b'online.log'\n",
      "[2020-05-12 14-22-53]test3:0:12: key=None value=b'recommend.log'\n",
      "[2020-05-12 14-22-53]test3:0:13: key=None value=b'collect.log'\n",
      "[2020-05-12 14-22-53]test3:0:14: key=None value=b'onlinesuper.log'\n",
      "[2020-05-12 14-22-53]test3:0:15: key=None value=b'userClick.log'\n"
     ]
    }
   ],
   "source": [
    "from kafka import KafkaConsumer\n",
    "import time\n",
    "\n",
    "def log(str):\n",
    "    t = time.strftime(r\"%Y-%m-%d %H-%M-%S\",time.localtime())\n",
    "    print(\"[%s]%s\"%(t,str))\n",
    "\n",
    "log('start consumer')\n",
    "consumer=KafkaConsumer('test3',bootstrap_servers=['192.168.19.137:9092'])\n",
    "for msg in consumer:\n",
    "    recv = \"%s:%d:%d: key=%s value=%s\" %(msg.topic,msg.partition,msg.offset,msg.key,msg.value)\n",
    "    log(recv)"
   ]
  },
  {
   "cell_type": "code",
   "execution_count": null,
   "metadata": {},
   "outputs": [],
   "source": []
  }
 ],
 "metadata": {
  "kernelspec": {
   "display_name": "Python 3",
   "language": "python",
   "name": "python3"
  },
  "language_info": {
   "codemirror_mode": {
    "name": "ipython",
    "version": 3
   },
   "file_extension": ".py",
   "mimetype": "text/x-python",
   "name": "python",
   "nbconvert_exporter": "python",
   "pygments_lexer": "ipython3",
   "version": "3.6.7"
  }
 },
 "nbformat": 4,
 "nbformat_minor": 2
}
